{
 "cells": [
  {
   "cell_type": "markdown",
   "metadata": {},
   "source": [
    "## Problem 1: Recursion\n",
    "### 1.1: Factorial\n",
    "\n",
    "Write a recursive function `factorial` that takes a non-negative integer $n$ and returns $n!$."
   ]
  },
  {
   "cell_type": "code",
   "execution_count": 6,
   "metadata": {},
   "outputs": [],
   "source": [
    "def factorial(n):\n",
    "    if n < 1:\n",
    "        return 1\n",
    "    return n * factorial(n-1)\n",
    "\n",
    "# or \n",
    "\n",
    "def factorial2(n):\n",
    "    return n * factorial(n-1) if n > 1 else 1"
   ]
  },
  {
   "cell_type": "markdown",
   "metadata": {},
   "source": [
    "### 1.2: Fibonacci\n",
    "\n",
    "Write a recursive function `fibonacci` that takes a non-negative integer $n$ and returns the $n^{th}$ Fibonacci number.\n",
    "\n",
    "As a reminder, the Fibonacci sequence is defined as follows:\n",
    "$$\n",
    "\\begin{align*}   \n",
    "F_0 &= 1 \\\\\n",
    "F_1 &= 1 \\\\\n",
    "F_n &= F_{n-1} + F_{n-2} \\quad \\text{for } n \\geq 2 \n",
    "\\end{align*}\n",
    "$$\n"
   ]
  },
  {
   "cell_type": "code",
   "execution_count": 1,
   "metadata": {},
   "outputs": [],
   "source": [
    "def fibonacci(n):\n",
    "    if n <= 1:\n",
    "        return 1\n",
    "    return fibonacci(n - 1) + fibonacci(n - 2)\n",
    "\n",
    "# This is horrible by the way... it requires ~2^n (O(2^n) if you know what O() means) operations to finish. \n",
    "# If you still want to implement it recursively, you can save previous values to make it faster\n",
    "\n",
    "def fib(n, prev=None):\n",
    "    if prev == None:\n",
    "        prev = [1,1]\n",
    "    if len(prev) > n:\n",
    "        return prev[n]\n",
    "    else:\n",
    "        num = fib(n - 2, prev) + fib(n - 1, prev)\n",
    "        prev.append(num)\n",
    "        return num\n",
    "\n",
    "# This is much better, it only needs ~n (O(n)) operations to finish but still worse than the iterative way!"
   ]
  },
  {
   "cell_type": "code",
   "execution_count": 8,
   "metadata": {},
   "outputs": [
    {
     "name": "stdout",
     "output_type": "stream",
     "text": [
      "\u001b[92mTest 1 [fib(0)] : passed\n",
      "\u001b[92mTest 2 [fib(1)] : passed\n",
      "\u001b[92mTest 3 [fib(5)] : passed\n",
      "\u001b[92mTest 4 [fib(10)] : passed\n",
      "\u001b[92mTest 1 [fib(0)] : passed\n",
      "\u001b[92mTest 2 [fib(1)] : passed\n",
      "\u001b[92mTest 3 [fib(5)] : passed\n",
      "\u001b[92mTest 4 [fib(10)] : passed\n"
     ]
    }
   ],
   "source": [
    "# Check your work!\n",
    "from tests import test_fib\n",
    "test_fib(fibonacci)\n",
    "test_fib(fib)"
   ]
  },
  {
   "cell_type": "markdown",
   "metadata": {},
   "source": [
    "Now write it iteratively."
   ]
  },
  {
   "cell_type": "code",
   "execution_count": 9,
   "metadata": {},
   "outputs": [],
   "source": [
    "def itr_fibonacci(n):\n",
    "    nm1, num = 1,1\n",
    "    for i in range(2, n + 1):\n",
    "        nm1, num = num, nm1 + num\n",
    "    return num"
   ]
  },
  {
   "cell_type": "code",
   "execution_count": 10,
   "metadata": {},
   "outputs": [
    {
     "name": "stdout",
     "output_type": "stream",
     "text": [
      "\u001b[92mTest 1 [fib(0)] : passed\n",
      "\u001b[92mTest 2 [fib(1)] : passed\n",
      "\u001b[92mTest 3 [fib(5)] : passed\n",
      "\u001b[92mTest 4 [fib(10)] : passed\n"
     ]
    }
   ],
   "source": [
    "# Check your work!\n",
    "test_fib(itr_fibonacci)"
   ]
  },
  {
   "cell_type": "markdown",
   "metadata": {},
   "source": [
    "## Problem 2: File I/O\n",
    "\n",
    "The file `data.txt` contains a list of numbers. Write a program that reads the numbers from the file and prints their sum, their mean, and their standard deviation rounded to the nearest integer. Then write the results to a file called `results.txt` in the following format:\n",
    "\n",
    "```\n",
    "mean: x\n",
    "standard deviation: y\n",
    "```\n",
    "\n",
    "Recall that the standard deviation is defined as follows:\n",
    "$$\n",
    "\\sigma = \\sqrt{\\frac{1}{N}\\sum_{i=1}^N (x_i - \\mu)^2}\n",
    "$$\n",
    "where $\\mu$ is the mean of the numbers defined as follows:\n",
    "$$\n",
    "\\mu = \\frac{1}{N}\\sum_{i=1}^N x_i\n",
    "$$\n"
   ]
  },
  {
   "cell_type": "code",
   "execution_count": 11,
   "metadata": {},
   "outputs": [],
   "source": [
    "# Load the file and calculate the average and standard deviation\n",
    "with open('data.txt', 'r') as f:\n",
    "    data = [float(x) for x in f.read().split('\\n') if x] \n",
    "            # Casting to float from string \n",
    "            # f.read() returns the whole file as a string \n",
    "            # .split will create a list where elements are separated by the character specified \n",
    "            # if x just checks if a value of x exits. For the last line, there is a new line but no number there, split will give an empty string there\n",
    "\n",
    "mean = round(sum(data) / len(data))\n",
    "sigma = round((sum([(x - mean) ** 2 for x in data]) / len(data)) ** 0.5)"
   ]
  },
  {
   "cell_type": "code",
   "execution_count": 12,
   "metadata": {},
   "outputs": [],
   "source": [
    "# Write your code here to write it to the results.txt file\n",
    "with open(\"results.txt\", \"w+\") as f:\n",
    "    f.write(f\"mean: {mean}\\n\")\n",
    "    f.write(f\"standard deviation: {sigma}\\n\")"
   ]
  },
  {
   "cell_type": "code",
   "execution_count": 13,
   "metadata": {},
   "outputs": [
    {
     "name": "stdout",
     "output_type": "stream",
     "text": [
      "\u001b[92mTest 1 [mean] : passed\n",
      "\u001b[92mTest 2 [std] : passed\n",
      "\u001b[92mTest 3 [mean in results.txt] : passed\n",
      "\u001b[92mTest 4 [std in results.txt] : passed\n"
     ]
    }
   ],
   "source": [
    "# Check your work!\n",
    "from tests import test_File\n",
    "test_File(mean,sigma)"
   ]
  },
  {
   "cell_type": "markdown",
   "metadata": {},
   "source": [
    "## Problem 3: Counting nucleotides\n",
    "Create a function that given a DNA strand (as a String, e.g. `\"AGAGAGATCCCTTA\"`) it counts how much of each nucleotide (`A` `G` `T` or `C`) is present in the strand and returns the result as a dictionary mapping the nucleotides to their counts. The function should throw an error (using `raise ValueError()`) if an invalid nucleotide is encountered. Test your result with `\"ATATATAGGCCAX\"` and `\"ATATATAGGCCAA\"`."
   ]
  },
  {
   "cell_type": "code",
   "execution_count": 14,
   "metadata": {},
   "outputs": [],
   "source": [
    "def count_nucleotides(dna):\n",
    "    invalid = [x for x in dna if x not in 'ACGT'] # Search for invalid nucleotides \n",
    "    if invalid: \n",
    "        raise ValueError(f\"Invalid nucleotide in DNA sequence: {invalid}\")\n",
    "    return {x: dna.count(x) for x in 'ACGT'}"
   ]
  },
  {
   "cell_type": "code",
   "execution_count": 15,
   "metadata": {},
   "outputs": [
    {
     "name": "stdout",
     "output_type": "stream",
     "text": [
      "{'A': 6, 'C': 2, 'G': 2, 'T': 3}\n",
      "Value error was thrown: Invalid nucleotide in DNA sequence: ['X']\n"
     ]
    }
   ],
   "source": [
    "print(count_nucleotides('ATATATAGGCCAA'))\n",
    "try:\n",
    "    count_nucleotides('ATATATAGGCCAX')\n",
    "except ValueError as e:\n",
    "    print(f'Value error was thrown: {e}')"
   ]
  }
 ],
 "metadata": {
  "kernelspec": {
   "display_name": "py312",
   "language": "python",
   "name": "python3"
  },
  "language_info": {
   "codemirror_mode": {
    "name": "ipython",
    "version": 3
   },
   "file_extension": ".py",
   "mimetype": "text/x-python",
   "name": "python",
   "nbconvert_exporter": "python",
   "pygments_lexer": "ipython3",
   "version": "3.12.4"
  }
 },
 "nbformat": 4,
 "nbformat_minor": 2
}
