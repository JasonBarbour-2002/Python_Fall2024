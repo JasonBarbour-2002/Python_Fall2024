{
 "cells": [
  {
   "cell_type": "markdown",
   "metadata": {},
   "source": [
    "# Problem set 1: \n",
    "\n",
    "## Problem 1: Loops"
   ]
  },
  {
   "cell_type": "markdown",
   "metadata": {},
   "source": [
    "a) Write a `for` loop that can draw the following pattern using `print` statements for size `n = 5`:\n",
    "\n",
    "``` Python\n",
    "*\n",
    "**\n",
    "***\n",
    "****\n",
    "*****\n",
    "```"
   ]
  },
  {
   "cell_type": "code",
   "execution_count": 1,
   "metadata": {},
   "outputs": [
    {
     "name": "stdout",
     "output_type": "stream",
     "text": [
      "*\n",
      "**\n",
      "***\n",
      "****\n",
      "*****\n"
     ]
    }
   ],
   "source": [
    "size = 5\n",
    "# Fill in the for loop here!\n",
    "for i in range(size):\n",
    "    print(\"*\"*(i+1))"
   ]
  },
  {
   "cell_type": "markdown",
   "metadata": {},
   "source": [
    "b) Using 2 `for` loops, write a program that can draw the following pattern (for `n = 5`):\n",
    "```Python\n",
    "*********\n",
    " *******\n",
    "  *****\n",
    "   ***\n",
    "    *   \n",
    "   ***\n",
    "  *****\n",
    " *******\n",
    "*********\n",
    "```\n",
    "**PS:** You can do it using 1 `for` loop as well if you feel adventurous."
   ]
  },
  {
   "cell_type": "code",
   "execution_count": 34,
   "metadata": {},
   "outputs": [
    {
     "name": "stdout",
     "output_type": "stream",
     "text": [
      "*********\n",
      " *******\n",
      "  *****\n",
      "   ***\n",
      "    *\n",
      "   ***\n",
      "  *****\n",
      " *******\n",
      "*********\n",
      "\n",
      "==============================\n",
      "==============================\n",
      "\n",
      "*********\n",
      " *******\n",
      "  *****\n",
      "   ***\n",
      "    *\n",
      "   ***\n",
      "  *****\n",
      " *******\n",
      "*********\n"
     ]
    }
   ],
   "source": [
    "# Fill in the loop here\n",
    "size = 4\n",
    "# With 2 loops\n",
    "for i in range(size + 1):\n",
    "    print(\" \" * i, end=\"\")\n",
    "    print(\"*\" * ((size - i) * 2 + 1))\n",
    "for i in range(1,size+1):\n",
    "    print(\" \" * (size - i), end=\"\")\n",
    "    print(\"*\" * (i * 2 + 1))\n",
    "\n",
    "print('')\n",
    "print('='*30)\n",
    "print('='*30)\n",
    "print('')\n",
    "\n",
    "# With 1 for loop\n",
    "for i in range(-size,size+1):\n",
    "    print(\" \" * (size - abs(i)), '*' * (abs(i)*2 + 1), sep=\"\")"
   ]
  },
  {
   "cell_type": "markdown",
   "metadata": {},
   "source": [
    "c) Using a while loop write a program that can find the square root of perfect squares. If the number is not a perfect square, print a message to that effect. \n",
    "\n",
    "**Hint:** We are looking for a brute force solution"
   ]
  },
  {
   "cell_type": "code",
   "execution_count": 11,
   "metadata": {},
   "outputs": [
    {
     "name": "stdout",
     "output_type": "stream",
     "text": [
      "sqrt(4096576) = 2024\n"
     ]
    }
   ],
   "source": [
    "num = 2024**2\n",
    "# Write your code here!\n",
    "x = 0\n",
    "while x * x < num:\n",
    "    x+=1\n",
    "if x * x == num:\n",
    "    print(f\"sqrt({num}) = {x}\")\n",
    "else:\n",
    "    print(f\"{num} is not a perfect square\")"
   ]
  },
  {
   "cell_type": "markdown",
   "metadata": {},
   "source": [
    "## Problem 2: Palindromes"
   ]
  },
  {
   "cell_type": "markdown",
   "metadata": {},
   "source": [
    "Write a function name `is_palindrome` that takes a string as an argument and returns `True` if the string is a palindrome and `False` otherwise. A palindrome is a string that reads the same forwards and backwards. For example, `radar` is a palindrome, but `radix` is not."
   ]
  },
  {
   "cell_type": "code",
   "execution_count": 12,
   "metadata": {},
   "outputs": [],
   "source": [
    "# Write your code here!\n",
    "def is_palindrome(string):\n",
    "    return string == string[::-1]"
   ]
  },
  {
   "cell_type": "code",
   "execution_count": 13,
   "metadata": {},
   "outputs": [
    {
     "name": "stdout",
     "output_type": "stream",
     "text": [
      "False\n",
      "True\n"
     ]
    }
   ],
   "source": [
    "print(is_palindrome('Hello')) # False\n",
    "print(is_palindrome('civic')) # True"
   ]
  },
  {
   "cell_type": "markdown",
   "metadata": {},
   "source": [
    "## Problem 3 : Babylonian square root\n",
    "To get the square root of y, Babylonians used the following algorithm:\n",
    "$$\n",
    "x_{n+1} = \\frac{1}{2} \\left( x_n + \\frac{y}{x_n} \\right)\n",
    "$$\n",
    "Iteratively starting with $x_0$, this algorithm converges to $\\sqrt{y}$ within some tolerance $\\epsilon$. \n",
    "\n",
    "* Write a function `babylonian_sqrt(y, e, x0 = 1)` that returns the square root of y, starting with $x_0$ and iterating until the difference between two successive estimates is less than e.\n",
    "\n",
    "* Test the function by comparing the result with the built in function `math.sqrt()` function.\n",
    "\n",
    "* Also return the number of iterations needed to reach the desired tolerance.\n",
    "\n",
    "* **Hint:** You can use the `abs()` function to compute the absolute value of a number.\n",
    "\n",
    "* **Hint 2:** You don't need anythong more than a basic while loop."
   ]
  },
  {
   "cell_type": "code",
   "execution_count": 18,
   "metadata": {},
   "outputs": [],
   "source": [
    "# Write your code here!\n",
    "def babylonian_sqrt(y, e, x0 = 1):\n",
    "    while abs(x0 * x0 - y) > e:\n",
    "        x0 = 0.5 * (x0 + y/x0)\n",
    "    return x0"
   ]
  },
  {
   "cell_type": "code",
   "execution_count": 19,
   "metadata": {},
   "outputs": [
    {
     "name": "stdout",
     "output_type": "stream",
     "text": [
      "991.5412245590284\n",
      "991.5412245590195\n"
     ]
    }
   ],
   "source": [
    "# To compare your code with the expected output, run the following command:\n",
    "Number = 983154\n",
    "import math as m\n",
    "print(babylonian_sqrt(Number, 1e-6))\n",
    "print(m.sqrt(Number))"
   ]
  },
  {
   "cell_type": "markdown",
   "metadata": {},
   "source": [
    "## Problem 5: Lists\n",
    "\n",
    "* Create a list `my_list` with the following elements: 1, 2, 3, 4, 5, 6, 7, 8, 9, 10.\n",
    "* Create a list `my_list2` with the following elements: 1, 3, 5, 7, 9, 11, 13, 15, 17, 19.  \n",
    "* from the list `my_list`, create a list `my_list3` with only the even elements of `my_list`.   \n",
    "* from the list `my_list2`, create a list `my_list4` that has the same elements as `my_list2` but in reverse order. \n",
    "* from the list `my_list2`, create a list `my_list5` that has the 3 first elements as `my_list2`.  "
   ]
  },
  {
   "cell_type": "code",
   "execution_count": 23,
   "metadata": {},
   "outputs": [],
   "source": [
    "my_list = list(range(1,11))\n",
    "my_list2 = list(range(1,20,2))\n",
    "my_list3 = my_list[1::2]\n",
    "my_list4 = my_list2[::-1]\n",
    "my_list5 = my_list2[:3]"
   ]
  },
  {
   "cell_type": "code",
   "execution_count": 24,
   "metadata": {},
   "outputs": [
    {
     "name": "stdout",
     "output_type": "stream",
     "text": [
      "\u001b[92mTest 1 [my_list] : passed\n",
      "\u001b[92mTest 2 [my_list2] : passed\n",
      "\u001b[92mTest 3 [my_list3] : passed\n",
      "\u001b[92mTest 4 [my_list4] : passed\n",
      "\u001b[92mTest 5 [my_list5] : passed\n"
     ]
    }
   ],
   "source": [
    "# Check your work!\n",
    "from tests import test_mylists\n",
    "test_mylists(my_list,my_list2,my_list3,my_list4,my_list5)"
   ]
  }
 ],
 "metadata": {
  "kernelspec": {
   "display_name": "Python 3",
   "language": "python",
   "name": "python3"
  },
  "language_info": {
   "codemirror_mode": {
    "name": "ipython",
    "version": 3
   },
   "file_extension": ".py",
   "mimetype": "text/x-python",
   "name": "python",
   "nbconvert_exporter": "python",
   "pygments_lexer": "ipython3",
   "version": "3.12.4"
  }
 },
 "nbformat": 4,
 "nbformat_minor": 2
}
