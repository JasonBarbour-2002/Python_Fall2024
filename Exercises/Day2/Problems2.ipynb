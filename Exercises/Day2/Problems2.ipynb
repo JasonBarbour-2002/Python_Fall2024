{
 "cells": [
  {
   "cell_type": "markdown",
   "metadata": {},
   "source": [
    "## Problem 1: Recursion\n",
    "### 1.1: Factorial\n",
    "\n",
    "Write a recursive function `factorial` that takes a non-negative integer $n$ and returns $n!$."
   ]
  },
  {
   "cell_type": "code",
   "execution_count": null,
   "metadata": {},
   "outputs": [],
   "source": [
    "def factorial(n):\n",
    "# Write your cod here:\n",
    "    ..."
   ]
  },
  {
   "cell_type": "markdown",
   "metadata": {},
   "source": [
    "### 1.2: Fibonacci\n",
    "\n",
    "Write a recursive function `fibonacci` that takes a non-negative integer $n$ and returns the $n^{th}$ Fibonacci number.\n",
    "\n",
    "As a reminder, the Fibonacci sequence is defined as follows:\n",
    "$$\n",
    "\\begin{align*}   \n",
    "F_0 &= 1 \\\\\n",
    "F_1 &= 1 \\\\\n",
    "F_n &= F_{n-1} + F_{n-2} \\quad \\text{for } n \\geq 2 \n",
    "\\end{align*}\n",
    "$$\n"
   ]
  },
  {
   "cell_type": "code",
   "execution_count": null,
   "metadata": {},
   "outputs": [],
   "source": [
    "def fibonacci(n):\n",
    "    ..."
   ]
  },
  {
   "cell_type": "code",
   "execution_count": null,
   "metadata": {},
   "outputs": [],
   "source": [
    "# Check your work!\n",
    "from tests import test_fib\n",
    "test_fib(fibonacci)"
   ]
  },
  {
   "cell_type": "markdown",
   "metadata": {},
   "source": [
    "Now write it iteratively."
   ]
  },
  {
   "cell_type": "code",
   "execution_count": null,
   "metadata": {},
   "outputs": [],
   "source": [
    "def itr_fibonacci(n):\n",
    "    ..."
   ]
  },
  {
   "cell_type": "code",
   "execution_count": null,
   "metadata": {},
   "outputs": [],
   "source": [
    "# Check your work!\n",
    "test_fib(itr_fibonacci)"
   ]
  },
  {
   "cell_type": "markdown",
   "metadata": {},
   "source": [
    "## Problem 2: File I/O\n",
    "\n",
    "The file `data.txt` contains a list of numbers. Write a program that reads the numbers from the file and prints their sum, their mean, and their standard deviation rounded to the nearest integer. Then write the results to a file called `results.txt` in the following format:\n",
    "\n",
    "```\n",
    "mean: x\n",
    "standard deviation: y\n",
    "```\n",
    "\n",
    "Recall that the standard deviation is defined as follows:\n",
    "$$\n",
    "\\sigma = \\sqrt{\\frac{1}{N}\\sum_{i=1}^N (x_i - \\mu)^2}\n",
    "$$\n",
    "where $\\mu$ is the mean of the numbers defined as follows:\n",
    "$$\n",
    "\\mu = \\frac{1}{N}\\sum_{i=1}^N x_i\n",
    "$$\n"
   ]
  },
  {
   "cell_type": "code",
   "execution_count": null,
   "metadata": {},
   "outputs": [],
   "source": [
    "# Load the file and calculate the average and standard deviation"
   ]
  },
  {
   "cell_type": "code",
   "execution_count": null,
   "metadata": {},
   "outputs": [],
   "source": [
    "# Write your code here to write it to the results.txt file"
   ]
  },
  {
   "cell_type": "code",
   "execution_count": null,
   "metadata": {},
   "outputs": [],
   "source": [
    "# Check your work!\n",
    "from tests import test_File\n",
    "test_File(mean,std)"
   ]
  },
  {
   "cell_type": "markdown",
   "metadata": {},
   "source": [
    "## Problem 3: Counting nucleotides\n",
    "Create a function that given a DNA strand (as a String, e.g. `\"AGAGAGATCCCTTA\"`) it counts how much of each nucleotide (`A` `G` `T` or `C`) is present in the strand and returns the result as a dictionary mapping the nucleotides to their counts. The function should throw an error (using `raise ValueError()`) if an invalid nucleotide is encountered. Test your result with `\"ATATATAGGCCAX\"` and `\"ATATATAGGCCAA\"`."
   ]
  },
  {
   "cell_type": "code",
   "execution_count": null,
   "metadata": {},
   "outputs": [],
   "source": [
    "def count_nucleotides(dna):\n",
    "    ..."
   ]
  }
 ],
 "metadata": {
  "language_info": {
   "name": "python"
  }
 },
 "nbformat": 4,
 "nbformat_minor": 2
}
