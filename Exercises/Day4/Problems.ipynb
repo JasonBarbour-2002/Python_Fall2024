{
 "cells": [
  {
   "cell_type": "code",
   "execution_count": null,
   "metadata": {},
   "outputs": [],
   "source": [
    "import math\n",
    "import numpy as np\n",
    "import matplotlib.pyplot as plt"
   ]
  },
  {
   "cell_type": "markdown",
   "metadata": {},
   "source": [
    "## Problem 1: Taylor Expansion\n",
    "\n",
    "Plot the sine function and its progressive Taylor expansion series:\n",
    "$$\n",
    "\\sin(x) = \\sum_{n=0}^{\\infty} \\frac{(-1)^n}{(2n+1)!} x^{2n+1}\n",
    "$$\n",
    "for $x \\in [-3\\pi, 3\\pi]$. Plot:\n",
    "1. The real function \n",
    "2. The first 4 terms of the series in the same plot. (one curve for term 1 another for term 1 and 2 and so on)\n",
    "Use a different color for each curve and add a legend.\n",
    "* When plotting the series, plot the ylim in [-2,2]"
   ]
  },
  {
   "cell_type": "code",
   "execution_count": null,
   "metadata": {},
   "outputs": [],
   "source": []
  },
  {
   "cell_type": "code",
   "execution_count": null,
   "metadata": {},
   "outputs": [],
   "source": []
  },
  {
   "cell_type": "markdown",
   "metadata": {},
   "source": [
    "## Problem 2: The Colatz Conjecture\n",
    "\n",
    "The Collatz conjecture is a conjecture in mathematics that concerns a sequence defined as follows: start with any positive integer n. Then each term is obtained from the previous term as follows: if the previous term is even, the next term is one half of the previous term. If the previous term is odd, the next term is 3 times the previous term plus 1. The conjecture is that no matter what value of n, the sequence will always eventually reach 1.\n",
    "\n",
    "In other words the sequence is defined by:\n",
    "$$\n",
    "\\begin{align}\n",
    "a_1 &= n \\\\\n",
    "a_{i+1} &= \\begin{cases}\n",
    "a_i/2 & \\text{if } a_i \\text{ is even} \\\\\n",
    "3a_i + 1 & \\text{if } a_i \\text{ is odd}\n",
    "\\end{cases}\n",
    "\\end{align}\n",
    "$$\n",
    "After enough iterations, $a_i$ will become 1.\n",
    "\n",
    "Write a function that receives an integer $n$ and returns the Collatz sequence up to the point where it reaches 1. Plot the sequence for a few values of $n$."
   ]
  },
  {
   "cell_type": "code",
   "execution_count": null,
   "metadata": {},
   "outputs": [],
   "source": [
    "\n",
    "            "
   ]
  },
  {
   "cell_type": "code",
   "execution_count": null,
   "metadata": {},
   "outputs": [],
   "source": []
  },
  {
   "cell_type": "markdown",
   "metadata": {},
   "source": [
    "## Problem 3: Benford's Law\n",
    "\n",
    "Benford's law, also called the first-digit law, is an observation about the frequency distribution of leading digits in many real-life sets of numerical data. The law states that in many naturally occurring collections of numbers, the leading digit is likely to be small. In particular, the leading digit is 1 almost one third of the time. In general, the leading digit $d$ occurs with probability:\n",
    "$$\n",
    "P(d) = \\log_{10}\\left(1 + \\frac{1}{d}\\right)\n",
    "$$\n",
    "\n",
    "The file `country_area.csv` contains the area of all countries in the world. Use the leading digit of the areas to test Benford's law. Plot the frequency of each leading digit and compare it to the expected frequency according to Benford's law."
   ]
  },
  {
   "cell_type": "code",
   "execution_count": null,
   "metadata": {},
   "outputs": [],
   "source": []
  },
  {
   "cell_type": "markdown",
   "metadata": {},
   "source": [
    "## Problem 4: Images\n",
    "\n",
    "The file `image2.txt` contains a grayscale image. Load the image and plot it using matplotlib."
   ]
  },
  {
   "cell_type": "code",
   "execution_count": null,
   "metadata": {},
   "outputs": [],
   "source": []
  },
  {
   "cell_type": "markdown",
   "metadata": {},
   "source": [
    "## Problem 5: Rotating ball\n",
    "\n",
    "Create an animation of a ball rotating around a circle. The ball should move in a circle of radius 1 centered at the origin. "
   ]
  },
  {
   "cell_type": "code",
   "execution_count": null,
   "metadata": {},
   "outputs": [],
   "source": []
  }
 ],
 "metadata": {
  "kernelspec": {
   "display_name": "py312",
   "language": "python",
   "name": "python3"
  },
  "language_info": {
   "codemirror_mode": {
    "name": "ipython",
    "version": 3
   },
   "file_extension": ".py",
   "mimetype": "text/x-python",
   "name": "python",
   "nbconvert_exporter": "python",
   "pygments_lexer": "ipython3",
   "version": "3.12.4"
  }
 },
 "nbformat": 4,
 "nbformat_minor": 2
}
