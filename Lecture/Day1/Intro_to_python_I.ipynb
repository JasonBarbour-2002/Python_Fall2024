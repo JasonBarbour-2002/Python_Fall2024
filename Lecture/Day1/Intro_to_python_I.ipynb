{
 "cells": [
  {
   "cell_type": "markdown",
   "metadata": {},
   "source": [
    "# Intro to Python"
   ]
  },
  {
   "cell_type": "markdown",
   "metadata": {},
   "source": [
    "This notebook is an introduction to Python programming language for beginners. It covers the following topics:\n",
    "\n",
    "1. Data Types and Variables\n",
    "2. Operators\n",
    "3. Lists and Tuples\n",
    "4. Conditionals\n",
    "5. Loops\n",
    "6. Basics of functions\n",
    "\n",
    "by Jason Barbour"
   ]
  },
  {
   "cell_type": "markdown",
   "metadata": {},
   "source": [
    "## Data Types"
   ]
  },
  {
   "cell_type": "code",
   "execution_count": 3,
   "metadata": {},
   "outputs": [
    {
     "data": {
      "text/plain": [
       "'a = 11'"
      ]
     },
     "execution_count": 3,
     "metadata": {},
     "output_type": "execute_result"
    }
   ],
   "source": [
    "a = 5 # a is an integer\n",
    "b = True # b is a boolean \n",
    "c = 1.5 # c is a float  \n",
    "d = 1e-3 # d is a float\n",
    "e = \"Hello\" # e is a string\n",
    "f = '5'*5 # f is a string\n",
    "g = 5 + 3j # g is a complex number\n",
    "h = f\"a = {a + 6}\"\n",
    "h"
   ]
  },
  {
   "cell_type": "markdown",
   "metadata": {},
   "source": [
    "## Printing"
   ]
  },
  {
   "cell_type": "code",
   "execution_count": 4,
   "metadata": {},
   "outputs": [
    {
     "name": "stdout",
     "output_type": "stream",
     "text": [
      "5 True 1.5 0.001 Hello 55555 (5+3j)\n"
     ]
    }
   ],
   "source": [
    "print(a, b, c, d, e, f, g)"
   ]
  },
  {
   "cell_type": "markdown",
   "metadata": {},
   "source": [
    "But there is a lot of cool stuff you can do with the print function. You can check the documentation. "
   ]
  },
  {
   "cell_type": "markdown",
   "metadata": {},
   "source": [
    "## Basic Operations\n",
    "All the usual operations are available in Python.  The following table shows the syntax for the most common operations.\n",
    "\n",
    "\n",
    "| Operation | Syntax |\n",
    "|:----------:|:-------------:|\n",
    "| Addition  | `a + b` |\n",
    "| Subtraction | `a - b` |\n",
    "| Multiplication | `a * b` |\n",
    "| Division | `a / b` |\n",
    "| Integer Division | `a // b` |\n",
    "| Exponentiation | `a ** b` |\n",
    "| Modulo | `a % b` |"
   ]
  },
  {
   "cell_type": "markdown",
   "metadata": {},
   "source": [
    "<font color='red'>**Notice**: The `^` operator is not used for exponentiation in Python.</font>"
   ]
  },
  {
   "cell_type": "code",
   "execution_count": null,
   "metadata": {},
   "outputs": [],
   "source": [
    "x = 5\n",
    "y = 3\n",
    "z = x + y\n",
    "z = x - y\n",
    "z = x * y\n",
    "z = x / y\n",
    "z = x // y\n",
    "z = x % y\n",
    "z = x ** y\n",
    "z = x % y"
   ]
  },
  {
   "cell_type": "markdown",
   "metadata": {},
   "source": [
    "There is also the the shorthand with the equal sign."
   ]
  },
  {
   "cell_type": "code",
   "execution_count": null,
   "metadata": {},
   "outputs": [],
   "source": [
    "x += y  # => x = x + y\n",
    "x -= y  # => x = x - y\n",
    "x *= y  # => x = x * y\n",
    "x /= y  # => x = x / y\n",
    "x //= y # => x = x // y\n",
    "x %= y  # => x = x % y\n",
    "x **= y # => x = x ** y\n",
    "x %= y  # => x = x % y"
   ]
  },
  {
   "cell_type": "markdown",
   "metadata": {},
   "source": [
    "## Comparison Operators"
   ]
  },
  {
   "cell_type": "markdown",
   "metadata": {},
   "source": [
    "The following table shows the syntax for the most common comparison operations.\n",
    "\n",
    "| Operation | Syntax |\n",
    "|:----------:|:-------------:|\n",
    "| Equal  | `a == b` |\n",
    "| Not Equal | `a != b` |\n",
    "| Greater Than | `a > b` |\n",
    "| Less Than | `a < b` |\n",
    "| Greater Than or Equal To | `a >= b` |\n",
    "| Less Than or Equal To | `a <= b` |"
   ]
  },
  {
   "cell_type": "markdown",
   "metadata": {},
   "source": [
    "You can also combine boolean values using the following operators:\n",
    "\n",
    "| Operation | Syntax |\n",
    "|:----------:|:-------------:|\n",
    "| And  | `a and b` |\n",
    "| Or | `a or b` |\n",
    "| Not | `not a` |\n",
    "| Logical AND | `a & b` |\n",
    "| Logical OR | `a \\| b` |\n",
    "|Logical XOR | `a ^ b` |"
   ]
  },
  {
   "cell_type": "markdown",
   "metadata": {},
   "source": [
    "## Lists and Tuples\n",
    "Lists and tuples are the most common data structures in Python.  They are similar to arrays in other languages.  The main difference is that they can contain any type of data. \n",
    "\n",
    "### Lists\n"
   ]
  },
  {
   "cell_type": "code",
   "execution_count": null,
   "metadata": {},
   "outputs": [],
   "source": [
    "L = [1, 2, \"Hello\", 3.5, 5 + 3j]"
   ]
  },
  {
   "cell_type": "markdown",
   "metadata": {},
   "source": [
    "You can access elements in list like this: "
   ]
  },
  {
   "cell_type": "code",
   "execution_count": null,
   "metadata": {},
   "outputs": [],
   "source": [
    "print(L[0]) # First element of the list (1)\n",
    "print(L[1]) # Second element of the list (2)\n",
    "print(L[-1]) # Last element of the list (5 + 3j)\n",
    "print(L[2:4]) # Slice of the list (['Hello', 3.5])\n",
    "print(L[2:]) # Slice of the list (['Hello', 3.5, 5 + 3j])\n",
    "print(L[:2]) # Slice of the list ([1, 2])\n",
    "print(L[::2]) # Every second element of the list ([1, 'Hello', 5 + 3j])\n",
    "print(L[::-1]) # Reverse the list ([5 + 3j, 3.5, 'Hello', 2, 1])"
   ]
  },
  {
   "cell_type": "markdown",
   "metadata": {},
   "source": [
    "You can also append elements to the end of a list using the `append` method or add elements at a specific index using the `insert` method."
   ]
  },
  {
   "cell_type": "code",
   "execution_count": null,
   "metadata": {},
   "outputs": [],
   "source": [
    "L.append(10) # Add an element to the end of the list\n",
    "L.insert(2, \"World\") # Insert an element at a specific index"
   ]
  },
  {
   "cell_type": "markdown",
   "metadata": {},
   "source": [
    "### Tuples\n",
    "\n",
    "Tuples are similar to lists, but they are immutable.  This means that you cannot change the values in a tuple after you create it.  You can access elements in a tuple the same way you access elements in a list."
   ]
  },
  {
   "cell_type": "code",
   "execution_count": null,
   "metadata": {},
   "outputs": [],
   "source": [
    "T = (1, 2, 3, \"Hello\", 3.5, 5 + 3j)\n",
    "\n",
    "print(T[0]) # First element of the tuple (1)\n",
    "print(T[1]) # Second element of the tuple (2)\n",
    "print(T[-1]) # Last element of the tuple (5 + 3j)\n",
    "print(T[2:4]) # Slice of the tuple ((3, 'Hello'))\n",
    "print(T[2:]) # Slice of the tuple ((3, 'Hello', 3.5, 5 + 3j))\n",
    "print(T[:2]) # Slice of the tuple ((1, 2))\n",
    "print(T[::2]) # Every second element of the tuple ((1, 3, 3.5))\n",
    "print(T[::-1]) # Reverse the tuple ((5 + 3j, 3.5, 'Hello', 3, 2, 1))"
   ]
  },
  {
   "cell_type": "markdown",
   "metadata": {},
   "source": [
    "Since tuples are immutable, you cannot append elements to them."
   ]
  },
  {
   "cell_type": "markdown",
   "metadata": {},
   "source": [
    "## Conditions\n",
    "\n",
    "Like most programing languages Python has `if` statements."
   ]
  },
  {
   "cell_type": "code",
   "execution_count": null,
   "metadata": {},
   "outputs": [],
   "source": [
    "if a == 5:\n",
    "    print(\"a is 5\")\n",
    "elif a == 6:\n",
    "    print(\"a is 6\")\n",
    "else:\n",
    "    print(\"a is not 5 or 6\")"
   ]
  },
  {
   "cell_type": "markdown",
   "metadata": {},
   "source": [
    "It is important to note that Python uses indentation to define blocks of code.  This means that you must indent your code properly to avoid errors.\n",
    "\n",
    "Of course elif and else are optional."
   ]
  },
  {
   "cell_type": "markdown",
   "metadata": {},
   "source": [
    "## Loops \n",
    "\n",
    "Python has two types of loops: `for` and `while`.\n",
    "\n",
    "### While Loops\n",
    "\n",
    "The `while` loop will continue to execute as long as the condition is true."
   ]
  },
  {
   "cell_type": "code",
   "execution_count": null,
   "metadata": {},
   "outputs": [],
   "source": [
    "condition = True\n",
    "\n",
    "while condition: \n",
    "    # Do something here \n",
    "    condition = False"
   ]
  },
  {
   "cell_type": "markdown",
   "metadata": {},
   "source": [
    "### For Loops\n",
    "\n",
    "The `for` loop will iterate over a sequence of elements."
   ]
  },
  {
   "cell_type": "code",
   "execution_count": null,
   "metadata": {},
   "outputs": [],
   "source": [
    "for i in range(5):\n",
    "    print(i) # 0, 1, 2, 3, 4\n",
    "\n",
    "for i in range(2, 5):\n",
    "    print(i) # 2, 3, 4\n"
   ]
  },
  {
   "cell_type": "markdown",
   "metadata": {},
   "source": [
    "It is important to realise that the `range` function is just a short hand for creating a list of numbers.\n",
    "You can replace `range` with any list of elements and the for loop will iterate over them."
   ]
  },
  {
   "cell_type": "code",
   "execution_count": null,
   "metadata": {},
   "outputs": [],
   "source": [
    "for i in [1, 2, \"Hello\"]:\n",
    "    print(i) # 1, 2, Hello "
   ]
  },
  {
   "cell_type": "markdown",
   "metadata": {},
   "source": [
    "What if you want to loop over the elements but also get the index of the element in the list? \n",
    "\n",
    "\n",
    "You can be tempted to do something like this:"
   ]
  },
  {
   "cell_type": "code",
   "execution_count": null,
   "metadata": {},
   "outputs": [],
   "source": [
    "my_list = [1, 2, 3, \"hello\"]\n",
    "\n",
    "for i in range(len(my_list)):\n",
    "    print(i, my_list[i])"
   ]
  },
  {
   "cell_type": "markdown",
   "metadata": {},
   "source": [
    "But there is a better way to do this. You can use the `enumerate` function."
   ]
  },
  {
   "cell_type": "code",
   "execution_count": null,
   "metadata": {},
   "outputs": [],
   "source": [
    "my_list = [1, 2, 3, \"hello\"]\n",
    "\n",
    "for i, elem in enumerate(my_list):\n",
    "    print(i, elem)"
   ]
  },
  {
   "cell_type": "markdown",
   "metadata": {},
   "source": [
    "Note that you are not just limited to lists. You can use the for loop to iterate over any sequence of elements. \n",
    "\n",
    "Objects that can be iterated over are called iterable objects."
   ]
  },
  {
   "cell_type": "markdown",
   "metadata": {},
   "source": [
    "## Functions\n",
    "\n",
    "Functions are defined using the `def` keyword.  The syntax for defining a function is as follows:"
   ]
  },
  {
   "cell_type": "code",
   "execution_count": null,
   "metadata": {},
   "outputs": [],
   "source": [
    "def my_function(a, b):\n",
    "    return a + b"
   ]
  },
  {
   "cell_type": "markdown",
   "metadata": {},
   "source": [
    "And the function is naturally called like this:"
   ]
  },
  {
   "cell_type": "code",
   "execution_count": null,
   "metadata": {},
   "outputs": [],
   "source": [
    "my_function(5, 3) # 8"
   ]
  },
  {
   "cell_type": "markdown",
   "metadata": {},
   "source": [
    "You can also add default values to the arguments of a function."
   ]
  },
  {
   "cell_type": "code",
   "execution_count": null,
   "metadata": {},
   "outputs": [],
   "source": [
    "def my_function(a, b=3, c=4):\n",
    "    print(a, b, c)\n",
    "\n",
    "my_function(5) # 5, 3, 4\n",
    "my_function(5, 4) # 5, 4, 4"
   ]
  },
  {
   "cell_type": "markdown",
   "metadata": {},
   "source": [
    "Usually, the order of the arguments is important. But you can also use the name of the arguments to call the function."
   ]
  },
  {
   "cell_type": "code",
   "execution_count": null,
   "metadata": {},
   "outputs": [],
   "source": [
    "my_function(c=5, a=3) # 3, 3, 5"
   ]
  },
  {
   "cell_type": "markdown",
   "metadata": {},
   "source": [
    "In some cases you are forced to use the name of certain arguments. The most simple example is the `print` function. Since you can add as many arguments as you want to print, you need to use the name of the argument for other properties of the function to work."
   ]
  },
  {
   "cell_type": "code",
   "execution_count": 2,
   "metadata": {},
   "outputs": [
    {
     "name": "stdout",
     "output_type": "stream",
     "text": [
      "Hello;World!\n"
     ]
    }
   ],
   "source": [
    "print(\"Hello\", \"World\", sep=\";\", end=\"\") # You can't change the values of  `sep` and `end` without specifying the names\n",
    "print(\"!\")"
   ]
  }
 ],
 "metadata": {
  "kernelspec": {
   "display_name": "py312",
   "language": "python",
   "name": "python3"
  },
  "language_info": {
   "codemirror_mode": {
    "name": "ipython",
    "version": 3
   },
   "file_extension": ".py",
   "mimetype": "text/x-python",
   "name": "python",
   "nbconvert_exporter": "python",
   "pygments_lexer": "ipython3",
   "version": "3.12.4"
  }
 },
 "nbformat": 4,
 "nbformat_minor": 2
}
