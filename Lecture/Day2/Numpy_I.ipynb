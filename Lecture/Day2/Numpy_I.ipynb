{
 "cells": [
  {
   "cell_type": "markdown",
   "metadata": {},
   "source": [
    "# Intro to Numpy \n",
    "\n",
    "This notebook is an introduction to the numpy library. Numpy is a powerful library for numerical computing in Python. We will cover the following topics in this notebook:\n",
    "\n",
    "1. Creating numpy arrays\n",
    "2. Multi-dimensional arrays\n",
    "3. Operations on numpy arrays\n",
    "4. Broadcasting\n",
    "\n",
    "by Jason Barbour"
   ]
  },
  {
   "cell_type": "markdown",
   "metadata": {},
   "source": [
    "But first, let's import the numpy library."
   ]
  },
  {
   "cell_type": "code",
   "execution_count": null,
   "metadata": {},
   "outputs": [],
   "source": [
    "import numpy as np"
   ]
  },
  {
   "cell_type": "markdown",
   "metadata": {},
   "source": [
    "## Creating Numpy Arrays\n",
    "\n",
    "Numpy arrays are the main data structure in numpy. They are similar to Python lists, but with some key differences. Numpy arrays are homogeneous, meaning that all elements in the array must be of the same data type.\n",
    "\n",
    "Again, this looks like a downgrade from Python lists, but it is actually a huge advantage. Homogeneous arrays are much faster and more memory efficient than Python lists. "
   ]
  },
  {
   "cell_type": "markdown",
   "metadata": {},
   "source": [
    "There are many ways to create numpy arrays. Here are a few examples:"
   ]
  },
  {
   "cell_type": "markdown",
   "metadata": {},
   "source": [
    "### From a Python List\n",
    "\n",
    "You can create a numpy array from a Python list using the `np.array()` function."
   ]
  },
  {
   "cell_type": "code",
   "execution_count": null,
   "metadata": {},
   "outputs": [],
   "source": [
    "L = [1, 2, 3, 4, 5, 6, 7, 8, 9]\n",
    "A = np.array(L)\n",
    "A"
   ]
  },
  {
   "cell_type": "markdown",
   "metadata": {},
   "source": [
    "### Creating Arrays of Zeros and Ones\n",
    "\n",
    "You can create arrays of zeros and ones using the `np.zeros()` and `np.ones()` functions. This can come in handy when you need to initialize an array with a specific shape."
   ]
  },
  {
   "cell_type": "code",
   "execution_count": null,
   "metadata": {},
   "outputs": [],
   "source": [
    "A = np.zeros(10) # zeros(shape)\n",
    "B = np.ones(10) # ones(shape)\n",
    "print(A)\n",
    "print(B)"
   ]
  },
  {
   "cell_type": "markdown",
   "metadata": {},
   "source": [
    "### Creating Arrays of specific values"
   ]
  },
  {
   "cell_type": "code",
   "execution_count": null,
   "metadata": {},
   "outputs": [],
   "source": [
    "A = np.full(10, 5) # full(shape, value)\n",
    "A"
   ]
  },
  {
   "cell_type": "markdown",
   "metadata": {},
   "source": [
    "You can also fill an already created array with a specific value."
   ]
  },
  {
   "cell_type": "code",
   "execution_count": null,
   "metadata": {},
   "outputs": [],
   "source": [
    "A.fill(9)\n",
    "A"
   ]
  },
  {
   "cell_type": "markdown",
   "metadata": {},
   "source": [
    "### Ranges of Values\n",
    "\n",
    "You can create ranges of values in 2 different ways.\n",
    "\n",
    "1. `np.arange()`: This is kind of like the `range()` function in Python, but much more powerful. "
   ]
  },
  {
   "cell_type": "code",
   "execution_count": null,
   "metadata": {},
   "outputs": [],
   "source": [
    "np.arange(10) # arange(stop)"
   ]
  },
  {
   "cell_type": "code",
   "execution_count": null,
   "metadata": {},
   "outputs": [],
   "source": [
    "np.arange(1,10) # arange(start, stop)"
   ]
  },
  {
   "cell_type": "markdown",
   "metadata": {},
   "source": [
    "Unlike range, you can have non-integer steps in arange."
   ]
  },
  {
   "cell_type": "code",
   "execution_count": null,
   "metadata": {},
   "outputs": [],
   "source": [
    "np.arange(1, 10, 0.5)"
   ]
  },
  {
   "cell_type": "markdown",
   "metadata": {},
   "source": [
    "2. `np.linspace()`: This function creates an array of evenly spaced values between two endpoints. "
   ]
  },
  {
   "cell_type": "code",
   "execution_count": null,
   "metadata": {},
   "outputs": [],
   "source": [
    "np.linspace(0, 10, 21) # linspace(start, stop, num)"
   ]
  },
  {
   "cell_type": "markdown",
   "metadata": {},
   "source": [
    "But carefull, make sure you use the right number of points or it may not be what you expect."
   ]
  },
  {
   "cell_type": "code",
   "execution_count": null,
   "metadata": {},
   "outputs": [],
   "source": [
    "np.linspace(0, 10, 20)"
   ]
  },
  {
   "cell_type": "markdown",
   "metadata": {},
   "source": [
    "If you care about the spacing between the values, use `np.arange()`. If you care about the number of values, use `np.linspace()`."
   ]
  },
  {
   "cell_type": "markdown",
   "metadata": {},
   "source": [
    "## Multi-dimensional Arrays"
   ]
  },
  {
   "cell_type": "markdown",
   "metadata": {},
   "source": [
    "All of the examples above create 1-dimensional arrays. But numpy arrays can have any number of dimensions. All of the above that have a `shape` parameter can be used to create multi-dimensional arrays."
   ]
  },
  {
   "cell_type": "code",
   "execution_count": null,
   "metadata": {},
   "outputs": [],
   "source": [
    "np.zeros((3, 3))"
   ]
  },
  {
   "cell_type": "code",
   "execution_count": null,
   "metadata": {},
   "outputs": [],
   "source": [
    "np.ones((3, 3))"
   ]
  },
  {
   "cell_type": "code",
   "execution_count": null,
   "metadata": {},
   "outputs": [],
   "source": [
    "np.full((3, 3), 5)"
   ]
  },
  {
   "cell_type": "markdown",
   "metadata": {},
   "source": [
    "What if you have a 1-dimensional array and you want to convert it to a 2-dimensional array? You can use the `np.reshape()` function to do this."
   ]
  },
  {
   "cell_type": "code",
   "execution_count": null,
   "metadata": {},
   "outputs": [],
   "source": [
    "A = np.arange(9)\n",
    "A.reshape(3, 3) "
   ]
  },
  {
   "cell_type": "markdown",
   "metadata": {},
   "source": [
    "or equivalently"
   ]
  },
  {
   "cell_type": "code",
   "execution_count": null,
   "metadata": {},
   "outputs": [],
   "source": [
    "np.reshape(A, (3, 3))"
   ]
  },
  {
   "cell_type": "markdown",
   "metadata": {},
   "source": [
    "Note that you don't have to specify the size of one of the dimensions. If you pass `-1` as the size of one of the dimensions, numpy will automatically calculate the size of that dimension. For that to work, the size of the other dimension must be a factor of the total number of elements in the array and only use `-1` once."
   ]
  },
  {
   "cell_type": "code",
   "execution_count": null,
   "metadata": {},
   "outputs": [],
   "source": [
    "A = np.arange(9).reshape(3, -1) # -1 means \"whatever is needed\"\n",
    "A"
   ]
  },
  {
   "cell_type": "markdown",
   "metadata": {},
   "source": [
    "## Operations on Numpy Arrays"
   ]
  },
  {
   "cell_type": "markdown",
   "metadata": {},
   "source": [
    "### Arithmetic Operations\n",
    "All the basic arithmetic operations can be done on numpy arrays shown in the table below:\n",
    "\n",
    "| Operator | Description |\n",
    "| :---: | :---: |\n",
    "| + | Addition |\n",
    "| - | Subtraction |\n",
    "| / | Division |\n",
    "| * | Multiplication |\n",
    "| % | Modulus |\n",
    "| ** | Exponentiation |\n",
    "\n",
    "All these operations are done element wise."
   ]
  },
  {
   "cell_type": "code",
   "execution_count": null,
   "metadata": {},
   "outputs": [],
   "source": [
    "a = np.array([1, 2, 3, 4, 5])\n",
    "b = np.array([10, 20, 30, 40, 50])"
   ]
  },
  {
   "cell_type": "code",
   "execution_count": null,
   "metadata": {},
   "outputs": [],
   "source": [
    "a + b"
   ]
  },
  {
   "cell_type": "code",
   "execution_count": null,
   "metadata": {},
   "outputs": [],
   "source": [
    "a - b"
   ]
  },
  {
   "cell_type": "code",
   "execution_count": null,
   "metadata": {},
   "outputs": [],
   "source": [
    "a * b "
   ]
  },
  {
   "cell_type": "markdown",
   "metadata": {},
   "source": [
    "It works woth all operations in the table above\n",
    "\n",
    "This will work with scalars as well."
   ]
  },
  {
   "cell_type": "code",
   "execution_count": null,
   "metadata": {},
   "outputs": [],
   "source": [
    "a + 5"
   ]
  },
  {
   "cell_type": "markdown",
   "metadata": {},
   "source": [
    "And the `=` variations of these operators work as well."
   ]
  },
  {
   "cell_type": "code",
   "execution_count": null,
   "metadata": {},
   "outputs": [],
   "source": [
    "a += 5"
   ]
  },
  {
   "cell_type": "markdown",
   "metadata": {},
   "source": [
    "### Comparison Operators\n",
    "\n",
    "| Operator | Description |\n",
    "| :---: | :---: |\n",
    "| == | Equal |\n",
    "| != | Not Equal |\n",
    "| > | Greater Than |\n",
    "| < | Less Than |\n",
    "| >= | Greater Than or Equal |\n",
    "| <= | Less Than or Equal |\n",
    "\n",
    "These operators also work element wise."
   ]
  },
  {
   "cell_type": "code",
   "execution_count": null,
   "metadata": {},
   "outputs": [],
   "source": [
    "a = np.array([1, 2, 3, 4, 5])\n",
    "b = np.array([1, 2, 30, 40, 50])\n",
    "a == b"
   ]
  },
  {
   "cell_type": "markdown",
   "metadata": {},
   "source": [
    "### Logical Operators\n",
    "\n",
    "| Operator | Description |\n",
    "| :---: | :---: |\n",
    "| & | And |\n",
    "| \\| | Or |\n",
    "| ~ | Not |\n",
    "| ^ | Xor |\n",
    "\n",
    "Agaib, these operators work element wise."
   ]
  },
  {
   "cell_type": "code",
   "execution_count": null,
   "metadata": {},
   "outputs": [],
   "source": [
    "A = np.array([True, False, True, False])\n",
    "B = np.array([True, True, False, False])\n",
    "A & B"
   ]
  },
  {
   "cell_type": "markdown",
   "metadata": {},
   "source": [
    "In addition numpy has some handy function for these operations. For example, `np.all()` and `np.any()`.\n",
    "\n",
    "`np.all()` checks if all elements in an array are true.\n",
    "\n",
    "`np.any()` checks if any elements in an array are true."
   ]
  },
  {
   "cell_type": "code",
   "execution_count": null,
   "metadata": {},
   "outputs": [],
   "source": [
    "np.all(A == B)"
   ]
  },
  {
   "cell_type": "code",
   "execution_count": null,
   "metadata": {},
   "outputs": [],
   "source": [
    "np.any(A == B)"
   ]
  },
  {
   "cell_type": "markdown",
   "metadata": {},
   "source": [
    "### Broadcasting\n",
    "\n",
    "Broadcasting is a powerful feature of numpy that allows you to perform operations on arrays of different shapes. All you need to know is that the dimensions of the arrays must be compatible. \n",
    "\n",
    "How do you know if the dimensions are compatible?\n",
    "\n",
    "When operating on two arrays, NumPy compares their shapes element-wise. It starts with the trailing (i.e. rightmost) dimension and works its way left. Two dimensions are compatible when\n",
    "\n",
    "1. they are equal, or\n",
    "2. one of them is 1\n",
    "\n",
    "If these conditions are not met, a `ValueError` is thrown.\n",
    "\n",
    "if the arrays have different number of dimensions, the smaller array is padded with ones on its left side."
   ]
  },
  {
   "cell_type": "markdown",
   "metadata": {},
   "source": [
    "The simplest example is adding a scalar to an array. "
   ]
  },
  {
   "cell_type": "code",
   "execution_count": null,
   "metadata": {},
   "outputs": [],
   "source": [
    "A = np.array([1, 2, 3, 4, 5])\n",
    "A + 2 "
   ]
  },
  {
   "cell_type": "markdown",
   "metadata": {},
   "source": [
    "This should not be technically possible, but numpy makes it work by broadcasting the scalar to the shape of the array. Let's look at it step by step.\n",
    "\n",
    "shape of A is 5\n",
    "shape of 2 is 1 \n",
    "\n",
    "The dimensions are compatible, since 1 is compatible with any number. 2 is broadcasted to the shape of A (That is it is copied 5 times).\n",
    "\n",
    "A + 2 => [1, 2, 3, 4, 5] + [2, 2, 2, 2, 2] = [3, 4, 5, 6, 7]"
   ]
  },
  {
   "cell_type": "markdown",
   "metadata": {},
   "source": [
    "Let's look at a more complex example.\n",
    "\n",
    "Take the following two arrays:"
   ]
  },
  {
   "cell_type": "code",
   "execution_count": null,
   "metadata": {},
   "outputs": [],
   "source": [
    "A = np.arange(6).reshape(2, 3)\n",
    "B = np.arange(3)\n",
    "print(f\"A = \\n{A}\")\n",
    "print(f\"B = {B}\")"
   ]
  },
  {
   "cell_type": "markdown",
   "metadata": {},
   "source": [
    "Take a look at the shapes"
   ]
  },
  {
   "cell_type": "code",
   "execution_count": null,
   "metadata": {},
   "outputs": [],
   "source": [
    "print(f\"A.shape = {A.shape}\")\n",
    "print(f\"B.shape = {B.shape}\")"
   ]
  },
  {
   "cell_type": "markdown",
   "metadata": {},
   "source": [
    "First, they are not the same number of dimentions, so we need to pad the smaller array with ones on the left side.\n",
    "```python\n",
    "A = [[0, 1, 2],\n",
    "     [3, 4, 5]]\n",
    "```\n",
    "A.shape = (2, 3)\n",
    "```python\n",
    "B = [[0, 1, 2]]\n",
    "```\n",
    "B.shape = (1, 3)\n",
    "\n",
    "Now they are compatible. because 1 is compatible with any number. And the second dimension is the same.\n",
    "\n",
    "Numpy will take B and double it along the first dimension to make it the same shape as A.\n",
    "```python\n",
    "B = [[0, 1, 2],\n",
    "     [0, 1, 2]]\n",
    "```\n",
    "Now the shapes are the same and the operation can be done element wise.\n",
    "\n",
    "We expect the result to be:\n",
    "```python\n",
    "[[0, 2, 4],\n",
    " [3, 5, 7]]\n",
    "```"
   ]
  },
  {
   "cell_type": "code",
   "execution_count": null,
   "metadata": {},
   "outputs": [],
   "source": [
    "A + B"
   ]
  },
  {
   "cell_type": "markdown",
   "metadata": {},
   "source": [
    "This works with any number of dimensions. And with all element wise operations."
   ]
  },
  {
   "cell_type": "markdown",
   "metadata": {},
   "source": [
    "Another example:"
   ]
  },
  {
   "cell_type": "code",
   "execution_count": null,
   "metadata": {},
   "outputs": [],
   "source": [
    "A = np.arange(12).reshape(4, 3)\n",
    "A"
   ]
  },
  {
   "cell_type": "code",
   "execution_count": null,
   "metadata": {},
   "outputs": [],
   "source": [
    "B = np.arange(4)\n",
    "B"
   ]
  },
  {
   "cell_type": "markdown",
   "metadata": {},
   "source": [
    "If I want to add B to all columns of A.\n",
    "\n",
    "Will this work? if not how can we make it work?"
   ]
  },
  {
   "cell_type": "code",
   "execution_count": null,
   "metadata": {},
   "outputs": [],
   "source": [
    "C = np.reshape(B,(4, 1)) \n",
    "A + C"
   ]
  },
  {
   "cell_type": "markdown",
   "metadata": {},
   "source": [
    "Turning a 1-D array into a column is something you might need to do often. It's called adding a new axis. There is a shorthand for it."
   ]
  },
  {
   "cell_type": "code",
   "execution_count": null,
   "metadata": {},
   "outputs": [],
   "source": [
    "C = B[:,None] # or  [:,np.newaxis] np.newaxis is an alias for None\n",
    "A + C"
   ]
  }
 ],
 "metadata": {
  "kernelspec": {
   "display_name": "py312",
   "language": "python",
   "name": "python3"
  },
  "language_info": {
   "codemirror_mode": {
    "name": "ipython",
    "version": 3
   },
   "file_extension": ".py",
   "mimetype": "text/x-python",
   "name": "python",
   "nbconvert_exporter": "python",
   "pygments_lexer": "ipython3",
   "version": "3.12.4"
  }
 },
 "nbformat": 4,
 "nbformat_minor": 2
}
